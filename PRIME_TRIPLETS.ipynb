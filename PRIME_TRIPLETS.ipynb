{
  "nbformat": 4,
  "nbformat_minor": 0,
  "metadata": {
    "colab": {
      "name": "PRIME TRIPLETS.ipynb",
      "provenance": [],
      "authorship_tag": "ABX9TyN5l3g0cTEE8tXLhCmVUM1R",
      "include_colab_link": true
    },
    "kernelspec": {
      "name": "python3",
      "display_name": "Python 3"
    },
    "language_info": {
      "name": "python"
    }
  },
  "cells": [
    {
      "cell_type": "markdown",
      "metadata": {
        "id": "view-in-github",
        "colab_type": "text"
      },
      "source": [
        "<a href=\"https://colab.research.google.com/github/aashnijoshi/PrimeTriplets/blob/main/PRIME_TRIPLETS.ipynb\" target=\"_parent\"><img src=\"https://colab.research.google.com/assets/colab-badge.svg\" alt=\"Open In Colab\"/></a>"
      ]
    },
    {
      "cell_type": "code",
      "execution_count": null,
      "metadata": {
        "id": "EflL30Ct8hPO"
      },
      "outputs": [],
      "source": [
        "#To check if a given number 'n' is a prime triplet using Recursion\n",
        "\n",
        "#INPUTTING 'N' VALUE\n",
        "n=int(input(print(\"enter n\")))\n",
        "\n",
        "b=2      \n",
        "count=0       \n",
        "    \n",
        "#FUNC TO CHECK IF A NUMBER IS PRIME OR NOT\n",
        "def isPrime(x,b):\n",
        "   \n",
        "    global count\n",
        "    if b<x:\n",
        "        if x%b==0:\n",
        "            count+=1\n",
        "        else:\n",
        "            isPrime(x,b+1)    #APPLYING RECURSION BY CALLING SAME\n",
        "    if count==0:\n",
        "        return True\n",
        "        \n",
        "      \n",
        "\n",
        "def primetrip(n):\n",
        "   \n",
        "   #IN ORDER TO RULE OUT EVEN NUMBERS\n",
        "    if n%2==0:\n",
        "        return False \n",
        "    else:\n",
        "        if isPrime(n,b)==True and isPrime(n+2,b)==True and isPrime(n+6,b)==True:\n",
        "            return True\n",
        "        \n",
        "if primetrip(n) == True:\n",
        "    print(\"The given number forms prime triplets.\")\n",
        "    \n",
        "else:\n",
        "    print(\"The given number does not form prime triplets.\")\n",
        "    \n",
        "       \n",
        "    "
      ]
    }
  ]
}